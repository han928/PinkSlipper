{
 "cells": [
  {
   "cell_type": "code",
   "execution_count": 9,
   "metadata": {
    "collapsed": false
   },
   "outputs": [],
   "source": [
    "import numpy as np\n",
    "import matplotlib.pyplot as plt\n",
    "import seaborn as sns\n",
    "sns.set(style=\"white\", color_codes=True)\n",
    "%matplotlib inline\n",
    "\n",
    "import pystruct\n",
    "from pystruct.datasets import load_letters\n",
    "from pystruct.models import ChainCRF\n",
    "from pystruct.learners import FrankWolfeSSVM\n",
    "\n",
    "from sklearn.svm import LinearSVC\n",
    "from sklearn.cross_validation import train_test_split"
   ]
  },
  {
   "cell_type": "markdown",
   "metadata": {},
   "source": [
    "# Pystruct Chain CRF Example with Letters"
   ]
  },
  {
   "cell_type": "markdown",
   "metadata": {},
   "source": [
    "https://pystruct.github.io/auto_examples/plot_letters.html"
   ]
  },
  {
   "cell_type": "code",
   "execution_count": 2,
   "metadata": {
    "collapsed": false,
    "scrolled": false
   },
   "outputs": [],
   "source": [
    "abc = \"abcdefghijklmnopqrstuvwxyz\"\n",
    "letters = load_letters()"
   ]
  },
  {
   "cell_type": "code",
   "execution_count": 6,
   "metadata": {
    "collapsed": false
   },
   "outputs": [],
   "source": [
    "X, y, folds = letters['data'], letters['labels'], letters['folds']\n",
    "X, y = np.array(X), np.array(y)\n",
    "X_train, X_test, y_train, y_test = train_test_split(X, y)"
   ]
  },
  {
   "cell_type": "code",
   "execution_count": 3,
   "metadata": {
    "collapsed": true
   },
   "outputs": [],
   "source": [
    "X, y, folds = letters['data'], letters['labels'], letters['folds']\n",
    "X, y = np.array(X), np.array(y)\n",
    "X_train, X_test = X[folds <= 6], X[folds > 6]\n",
    "y_train, y_test = y[folds <= 6], y[folds > 6]"
   ]
  },
  {
   "cell_type": "markdown",
   "metadata": {},
   "source": [
    "### Train Linear SVM"
   ]
  },
  {
   "cell_type": "code",
   "execution_count": 7,
   "metadata": {
    "collapsed": false
   },
   "outputs": [
    {
     "data": {
      "text/plain": [
       "LinearSVC(C=0.1, class_weight=None, dual=False, fit_intercept=True,\n",
       "     intercept_scaling=1, loss='squared_hinge', max_iter=1000,\n",
       "     multi_class='ovr', penalty='l2', random_state=None, tol=0.0001,\n",
       "     verbose=0)"
      ]
     },
     "execution_count": 7,
     "metadata": {},
     "output_type": "execute_result"
    }
   ],
   "source": [
    "# Train linear SVM\n",
    "svm = LinearSVC(dual=False, C=.1)\n",
    "# flatten input\n",
    "svm.fit(np.vstack(X_train), np.hstack(y_train))"
   ]
  },
  {
   "cell_type": "markdown",
   "metadata": {},
   "source": [
    "### Train Linear Chain CRF"
   ]
  },
  {
   "cell_type": "code",
   "execution_count": 8,
   "metadata": {
    "collapsed": false
   },
   "outputs": [
    {
     "data": {
      "text/plain": [
       "FrankWolfeSSVM(C=0.1, batch_mode=False, check_dual_every=10,\n",
       "        do_averaging=True, line_search=True, logger=None, max_iter=11,\n",
       "        model=ChainCRF(n_states: 26, inference_method: max-product),\n",
       "        n_jobs=1, random_state=None, sample_method='perm',\n",
       "        show_loss_every=0, tol=0.001, verbose=0)"
      ]
     },
     "execution_count": 8,
     "metadata": {},
     "output_type": "execute_result"
    }
   ],
   "source": [
    "model = ChainCRF()\n",
    "ssvm = FrankWolfeSSVM(model=model, C=.1, max_iter=11)\n",
    "ssvm.fit(X_train, y_train)"
   ]
  },
  {
   "cell_type": "markdown",
   "metadata": {},
   "source": [
    "### Score SVM vs Chain CRF"
   ]
  },
  {
   "cell_type": "code",
   "execution_count": 6,
   "metadata": {
    "collapsed": false
   },
   "outputs": [
    {
     "name": "stdout",
     "output_type": "stream",
     "text": [
      "Test score with linear SVM: 0.747901\n",
      "Test score with chain CRF: 0.849650\n"
     ]
    }
   ],
   "source": [
    "print(\"Test score with linear SVM: %f\" % svm.score(np.vstack(X_test),\n",
    "                                                   np.hstack(y_test)))\n",
    "print(\"Test score with chain CRF: %f\" % ssvm.score(X_test, y_test))"
   ]
  },
  {
   "cell_type": "markdown",
   "metadata": {},
   "source": [
    "### Plotting some word sequences"
   ]
  },
  {
   "cell_type": "code",
   "execution_count": 7,
   "metadata": {
    "collapsed": false
   },
   "outputs": [
    {
     "data": {
      "image/png": "[encoded data removed]",
      "text/plain": [
       "<matplotlib.figure.Figure at 0x109e43ed0>"
      ]
     },
     "metadata": {},
     "output_type": "display_data"
    },
    {
     "data": {
      "image/png": "[encoded data removed]",
      "text/plain": [
       "<matplotlib.figure.Figure at 0x109e43f10>"
      ]
     },
     "metadata": {},
     "output_type": "display_data"
    }
   ],
   "source": [
    "n_words = 4\n",
    "rnd = np.random.RandomState()\n",
    "selected = rnd.randint(len(y_test), size=n_words)\n",
    "max_word_len = max([len(y_) for y_ in y_test[selected]])\n",
    "fig, axes = plt.subplots(n_words, max_word_len, figsize=(8, 6))\n",
    "fig.subplots_adjust(wspace=.2)\n",
    "for ind, axes_row in zip(selected, axes):\n",
    "    y_pred_svm = svm.predict(X_test[ind])\n",
    "    y_pred_chain = ssvm.predict([X_test[ind]])[0]\n",
    "    for i, (a, image, y_true, y_svm, y_chain) in enumerate(\n",
    "            zip(axes_row, X_test[ind], y_test[ind], y_pred_svm, y_pred_chain)):\n",
    "        a.matshow(image.reshape(16, 8), cmap=plt.cm.Greys)\n",
    "        a.text(0, 3, abc[y_true], color=\"#00AA00\", size=25)\n",
    "        a.text(0, 14, abc[y_svm], color=\"#5555FF\", size=25)\n",
    "        a.text(5, 14, abc[y_chain], color=\"#FF5555\", size=25)\n",
    "        a.set_xticks(())\n",
    "        a.set_yticks(())\n",
    "    for ii in range(i + 1, max_word_len):\n",
    "        axes_row[ii].set_visible(False)\n",
    "\n",
    "plt.matshow(ssvm.w[26 * 8 * 16:].reshape(26, 26))\n",
    "plt.title(\"Transition parameters of the chain CRF.\")\n",
    "plt.xticks(np.arange(25), abc)\n",
    "plt.yticks(np.arange(25), abc)\n",
    "plt.show()"
   ]
  },
  {
   "cell_type": "markdown",
   "metadata": {},
   "source": [
    "---\n",
    "\n",
    "---\n",
    "\n",
    "---\n",
    "\n",
    "---"
   ]
  },
  {
   "cell_type": "markdown",
   "metadata": {},
   "source": [
    "# SVM as CRF"
   ]
  },
  {
   "cell_type": "markdown",
   "metadata": {},
   "source": [
    "https://pystruct.github.io/auto_examples/svm_as_crf.html"
   ]
  },
  {
   "cell_type": "code",
   "execution_count": 104,
   "metadata": {
    "collapsed": true
   },
   "outputs": [],
   "source": [
    "from time import time\n",
    "from sklearn.datasets import load_iris\n",
    "from sklearn.cross_validation import train_test_split\n",
    "from pystruct.models import GraphCRF\n",
    "from pystruct.learners import NSlackSSVM"
   ]
  },
  {
   "cell_type": "code",
   "execution_count": 126,
   "metadata": {
    "collapsed": false,
    "scrolled": true
   },
   "outputs": [
    {
     "name": "stdout",
     "output_type": "stream",
     "text": [
      "[[ 5.1  3.5  1.4  0.2]\n",
      " [ 4.9  3.   1.4  0.2]\n",
      " [ 4.7  3.2  1.3  0.2]\n",
      " [ 4.6  3.1  1.5  0.2]]\n",
      "[[ 5.1  3.5  1.4  0.2]\n",
      " [ 4.9  3.   1.4  0.2]\n",
      " [ 4.7  3.2  1.3  0.2]\n",
      " [ 4.6  3.1  1.5  0.2]]\n"
     ]
    },
    {
     "data": {
      "text/plain": [
       "array([], shape=(0, 2), dtype=int64)"
      ]
     },
     "execution_count": 126,
     "metadata": {},
     "output_type": "execute_result"
    }
   ],
   "source": [
    "x = X[:4]\n",
    "print x\n",
    "print np.atleast_2d(x)\n",
    "np.empty((0,2), dtype=np.int)"
   ]
  },
  {
   "cell_type": "code",
   "execution_count": 106,
   "metadata": {
    "collapsed": true
   },
   "outputs": [],
   "source": [
    "iris = load_iris()\n",
    "X, y = iris.data, iris.target\n",
    "X_ = [(np.atleast_2d(x), np.empty((0, 2), dtype=np.int)) for x in X]\n",
    "Y = y.reshape(-1, 1)"
   ]
  },
  {
   "cell_type": "code",
   "execution_count": 107,
   "metadata": {
    "collapsed": true
   },
   "outputs": [],
   "source": [
    "X_train, X_test, y_train, y_test = train_test_split(X_, Y)\n",
    "pbl = GraphCRF(inference_method='unary')\n",
    "svm = NSlackSSVM(pbl, C=100)"
   ]
  },
  {
   "cell_type": "code",
   "execution_count": 108,
   "metadata": {
    "collapsed": false
   },
   "outputs": [
    {
     "name": "stdout",
     "output_type": "stream",
     "text": [
      "Score with pystruct crf svm: 0.973684 (took 0.188008 seconds)\n"
     ]
    }
   ],
   "source": [
    "start = time()\n",
    "svm.fit(X_train, y_train)\n",
    "time_svm = time() - start\n",
    "y_pred = np.vstack(svm.predict(X_test))\n",
    "print(\"Score with pystruct crf svm: %f (took %f seconds)\"\n",
    "      % (np.mean(y_pred == y_test), time_svm))"
   ]
  },
  {
   "cell_type": "markdown",
   "metadata": {},
   "source": [
    "---\n",
    "\n",
    "---\n",
    "\n",
    "---\n",
    "\n",
    "---"
   ]
  },
  {
   "cell_type": "markdown",
   "metadata": {},
   "source": [
    "# Multi-label classification"
   ]
  },
  {
   "cell_type": "markdown",
   "metadata": {},
   "source": [
    "https://pystruct.github.io/auto_examples/multi_label.html"
   ]
  },
  {
   "cell_type": "code",
   "execution_count": 134,
   "metadata": {
    "collapsed": true
   },
   "outputs": [],
   "source": [
    "import itertools\n",
    "\n",
    "import numpy as np\n",
    "from scipy import sparse\n",
    "\n",
    "from sklearn.metrics import hamming_loss\n",
    "from sklearn.datasets import fetch_mldata\n",
    "from sklearn.metrics import mutual_info_score\n",
    "from scipy.sparse.csgraph import minimum_spanning_tree\n",
    "\n",
    "from pystruct.learners import OneSlackSSVM\n",
    "from pystruct.models import MultiLabelClf\n",
    "from pystruct.datasets import load_scene"
   ]
  },
  {
   "cell_type": "code",
   "execution_count": 135,
   "metadata": {
    "collapsed": false
   },
   "outputs": [
    {
     "name": "stdout",
     "output_type": "stream",
     "text": [
      "fitting independent model...\n",
      "fitting full model...\n"
     ]
    },
    {
     "ename": "ImportError",
     "evalue": "No module named pyqpbo",
     "output_type": "error",
     "traceback": [
      "\u001b[0;31m---------------------------------------------------------------------------\u001b[0m",
      "\u001b[0;31mImportError\u001b[0m                               Traceback (most recent call last)",
      "\u001b[0;32m<ipython-input-135-6c1b826f4e04>\u001b[0m in \u001b[0;36m<module>\u001b[0;34m()\u001b[0m\n\u001b[1;32m     47\u001b[0m \u001b[0mindependent_ssvm\u001b[0m\u001b[0;34m.\u001b[0m\u001b[0mfit\u001b[0m\u001b[0;34m(\u001b[0m\u001b[0mX_train\u001b[0m\u001b[0;34m,\u001b[0m \u001b[0my_train\u001b[0m\u001b[0;34m)\u001b[0m\u001b[0;34m\u001b[0m\u001b[0m\n\u001b[1;32m     48\u001b[0m \u001b[0;32mprint\u001b[0m\u001b[0;34m(\u001b[0m\u001b[0;34m\"fitting full model...\"\u001b[0m\u001b[0;34m)\u001b[0m\u001b[0;34m\u001b[0m\u001b[0m\n\u001b[0;32m---> 49\u001b[0;31m \u001b[0mfull_ssvm\u001b[0m\u001b[0;34m.\u001b[0m\u001b[0mfit\u001b[0m\u001b[0;34m(\u001b[0m\u001b[0mX_train\u001b[0m\u001b[0;34m,\u001b[0m \u001b[0my_train\u001b[0m\u001b[0;34m)\u001b[0m\u001b[0;34m\u001b[0m\u001b[0m\n\u001b[0m\u001b[1;32m     50\u001b[0m \u001b[0;32mprint\u001b[0m\u001b[0;34m(\u001b[0m\u001b[0;34m\"fitting tree model...\"\u001b[0m\u001b[0;34m)\u001b[0m\u001b[0;34m\u001b[0m\u001b[0m\n\u001b[1;32m     51\u001b[0m \u001b[0mtree_ssvm\u001b[0m\u001b[0;34m.\u001b[0m\u001b[0mfit\u001b[0m\u001b[0;34m(\u001b[0m\u001b[0mX_train\u001b[0m\u001b[0;34m,\u001b[0m \u001b[0my_train\u001b[0m\u001b[0;34m)\u001b[0m\u001b[0;34m\u001b[0m\u001b[0m\n",
      "\u001b[0;32m/Users/scottcronin/anaconda/lib/python2.7/site-packages/pystruct/learners/one_slack_ssvm.pyc\u001b[0m in \u001b[0;36mfit\u001b[0;34m(self, X, Y, constraints, warm_start, initialize)\u001b[0m\n\u001b[1;32m    446\u001b[0m                     \u001b[0;32mtry\u001b[0m\u001b[0;34m:\u001b[0m\u001b[0;34m\u001b[0m\u001b[0m\n\u001b[1;32m    447\u001b[0m                         Y_hat, djoint_feature, loss_mean = self._find_new_constraint(\n\u001b[0;32m--> 448\u001b[0;31m                             X, Y, joint_feature_gt, constraints)\n\u001b[0m\u001b[1;32m    449\u001b[0m                         \u001b[0mself\u001b[0m\u001b[0;34m.\u001b[0m\u001b[0m_update_cache\u001b[0m\u001b[0;34m(\u001b[0m\u001b[0mX\u001b[0m\u001b[0;34m,\u001b[0m \u001b[0mY\u001b[0m\u001b[0;34m,\u001b[0m \u001b[0mY_hat\u001b[0m\u001b[0;34m)\u001b[0m\u001b[0;34m\u001b[0m\u001b[0m\n\u001b[1;32m    450\u001b[0m                     \u001b[0;32mexcept\u001b[0m \u001b[0mNoConstraint\u001b[0m\u001b[0;34m:\u001b[0m\u001b[0;34m\u001b[0m\u001b[0m\n",
      "\u001b[0;32m/Users/scottcronin/anaconda/lib/python2.7/site-packages/pystruct/learners/one_slack_ssvm.pyc\u001b[0m in \u001b[0;36m_find_new_constraint\u001b[0;34m(self, X, Y, joint_feature_gt, constraints, check)\u001b[0m\n\u001b[1;32m    346\u001b[0m         \u001b[0;32melse\u001b[0m\u001b[0;34m:\u001b[0m\u001b[0;34m\u001b[0m\u001b[0m\n\u001b[1;32m    347\u001b[0m             Y_hat = self.model.batch_loss_augmented_inference(\n\u001b[0;32m--> 348\u001b[0;31m                 X, Y, self.w, relaxed=True)\n\u001b[0m\u001b[1;32m    349\u001b[0m         \u001b[0;31m# compute the mean over joint_features and losses\u001b[0m\u001b[0;34m\u001b[0m\u001b[0;34m\u001b[0m\u001b[0m\n\u001b[1;32m    350\u001b[0m \u001b[0;34m\u001b[0m\u001b[0m\n",
      "\u001b[0;32m/Users/scottcronin/anaconda/lib/python2.7/site-packages/pystruct/models/base.pyc\u001b[0m in \u001b[0;36mbatch_loss_augmented_inference\u001b[0;34m(self, X, Y, w, relaxed)\u001b[0m\n\u001b[1;32m     93\u001b[0m         \u001b[0;31m# default implementation of batch loss augmented inference\u001b[0m\u001b[0;34m\u001b[0m\u001b[0;34m\u001b[0m\u001b[0m\n\u001b[1;32m     94\u001b[0m         return [self.loss_augmented_inference(x, y, w, relaxed=relaxed)\n\u001b[0;32m---> 95\u001b[0;31m                 for x, y in zip(X, Y)]\n\u001b[0m\u001b[1;32m     96\u001b[0m \u001b[0;34m\u001b[0m\u001b[0m\n\u001b[1;32m     97\u001b[0m     \u001b[0;32mdef\u001b[0m \u001b[0m_set_class_weight\u001b[0m\u001b[0;34m(\u001b[0m\u001b[0mself\u001b[0m\u001b[0;34m)\u001b[0m\u001b[0;34m:\u001b[0m\u001b[0;34m\u001b[0m\u001b[0m\n",
      "\u001b[0;32m/Users/scottcronin/anaconda/lib/python2.7/site-packages/pystruct/models/crf.pyc\u001b[0m in \u001b[0;36mloss_augmented_inference\u001b[0;34m(self, x, y, w, relaxed, return_energy)\u001b[0m\n\u001b[1;32m    108\u001b[0m         return inference_dispatch(unary_potentials, pairwise_potentials, edges,\n\u001b[1;32m    109\u001b[0m                                   \u001b[0mself\u001b[0m\u001b[0;34m.\u001b[0m\u001b[0minference_method\u001b[0m\u001b[0;34m,\u001b[0m \u001b[0mrelaxed\u001b[0m\u001b[0;34m=\u001b[0m\u001b[0mrelaxed\u001b[0m\u001b[0;34m,\u001b[0m\u001b[0;34m\u001b[0m\u001b[0m\n\u001b[0;32m--> 110\u001b[0;31m                                   return_energy=return_energy)\n\u001b[0m\u001b[1;32m    111\u001b[0m \u001b[0;34m\u001b[0m\u001b[0m\n\u001b[1;32m    112\u001b[0m     \u001b[0;32mdef\u001b[0m \u001b[0minference\u001b[0m\u001b[0;34m(\u001b[0m\u001b[0mself\u001b[0m\u001b[0;34m,\u001b[0m \u001b[0mx\u001b[0m\u001b[0;34m,\u001b[0m \u001b[0mw\u001b[0m\u001b[0;34m,\u001b[0m \u001b[0mrelaxed\u001b[0m\u001b[0;34m=\u001b[0m\u001b[0mFalse\u001b[0m\u001b[0;34m,\u001b[0m \u001b[0mreturn_energy\u001b[0m\u001b[0;34m=\u001b[0m\u001b[0mFalse\u001b[0m\u001b[0;34m)\u001b[0m\u001b[0;34m:\u001b[0m\u001b[0;34m\u001b[0m\u001b[0m\n",
      "\u001b[0;32m/Users/scottcronin/anaconda/lib/python2.7/site-packages/pystruct/inference/inference_methods.pyc\u001b[0m in \u001b[0;36minference_dispatch\u001b[0;34m(unary_potentials, pairwise_potentials, edges, inference_method, return_energy, **kwargs)\u001b[0m\n\u001b[1;32m     76\u001b[0m     \u001b[0;32mif\u001b[0m \u001b[0minference_method\u001b[0m \u001b[0;34m==\u001b[0m \u001b[0;34m\"qpbo\"\u001b[0m\u001b[0;34m:\u001b[0m\u001b[0;34m\u001b[0m\u001b[0m\n\u001b[1;32m     77\u001b[0m         return inference_qpbo(unary_potentials, pairwise_potentials, edges,\n\u001b[0;32m---> 78\u001b[0;31m                               **kwargs)\n\u001b[0m\u001b[1;32m     79\u001b[0m     \u001b[0;32melif\u001b[0m \u001b[0minference_method\u001b[0m \u001b[0;34m==\u001b[0m \u001b[0;34m\"dai\"\u001b[0m\u001b[0;34m:\u001b[0m\u001b[0;34m\u001b[0m\u001b[0m\n\u001b[1;32m     80\u001b[0m         return inference_dai(unary_potentials, pairwise_potentials, edges,\n",
      "\u001b[0;32m/Users/scottcronin/anaconda/lib/python2.7/site-packages/pystruct/inference/inference_methods.pyc\u001b[0m in \u001b[0;36minference_qpbo\u001b[0;34m(unary_potentials, pairwise_potentials, edges, **kwargs)\u001b[0m\n\u001b[1;32m    233\u001b[0m     \"\"\"\n\u001b[1;32m    234\u001b[0m \u001b[0;34m\u001b[0m\u001b[0m\n\u001b[0;32m--> 235\u001b[0;31m     \u001b[0;32mfrom\u001b[0m \u001b[0mpyqpbo\u001b[0m \u001b[0;32mimport\u001b[0m \u001b[0malpha_expansion_general_graph\u001b[0m\u001b[0;34m\u001b[0m\u001b[0m\n\u001b[0m\u001b[1;32m    236\u001b[0m     \u001b[0mshape_org\u001b[0m \u001b[0;34m=\u001b[0m \u001b[0munary_potentials\u001b[0m\u001b[0;34m.\u001b[0m\u001b[0mshape\u001b[0m\u001b[0;34m[\u001b[0m\u001b[0;34m:\u001b[0m\u001b[0;34m-\u001b[0m\u001b[0;36m1\u001b[0m\u001b[0;34m]\u001b[0m\u001b[0;34m\u001b[0m\u001b[0m\n\u001b[1;32m    237\u001b[0m     \u001b[0mn_states\u001b[0m\u001b[0;34m,\u001b[0m \u001b[0mpairwise_potentials\u001b[0m \u001b[0;34m=\u001b[0m\u001b[0;31m \u001b[0m\u001b[0;31m\\\u001b[0m\u001b[0;34m\u001b[0m\u001b[0m\n",
      "\u001b[0;31mImportError\u001b[0m: No module named pyqpbo"
     ]
    }
   ],
   "source": [
    "def chow_liu_tree(y_):\n",
    "    # compute mutual information using sklearn\n",
    "    n_labels = y_.shape[1]\n",
    "    mi = np.zeros((n_labels, n_labels))\n",
    "    for i in range(n_labels):\n",
    "        for j in range(n_labels):\n",
    "            mi[i, j] = mutual_info_score(y_[:, i], y_[:, j])\n",
    "    mst = minimum_spanning_tree(sparse.csr_matrix(-mi))\n",
    "    edges = np.vstack(mst.nonzero()).T\n",
    "    edges.sort(axis=1)\n",
    "    return edges\n",
    "\n",
    "\n",
    "dataset = \"scene\"\n",
    "# dataset = \"yeast\"\n",
    "\n",
    "if dataset == \"yeast\":\n",
    "    yeast = fetch_mldata(\"yeast\")\n",
    "\n",
    "    X = yeast.data\n",
    "    X = np.hstack([X, np.ones((X.shape[0], 1))])\n",
    "    y = yeast.target.toarray().astype(np.int).T\n",
    "\n",
    "    X_train, X_test = X[:1500], X[1500:]\n",
    "    y_train, y_test = y[:1500], y[1500:]\n",
    "\n",
    "else:\n",
    "    scene = load_scene()\n",
    "    X_train, X_test = scene['X_train'], scene['X_test']\n",
    "    y_train, y_test = scene['y_train'], scene['y_test']\n",
    "\n",
    "n_labels = y_train.shape[1]\n",
    "full = np.vstack([x for x in itertools.combinations(range(n_labels), 2)])\n",
    "tree = chow_liu_tree(y_train)\n",
    "\n",
    "full_model = MultiLabelClf(edges=full, inference_method='qpbo')\n",
    "independent_model = MultiLabelClf(inference_method='unary')\n",
    "tree_model = MultiLabelClf(edges=tree, inference_method=\"max-product\")\n",
    "\n",
    "full_ssvm = OneSlackSSVM(full_model, inference_cache=50, C=.1, tol=0.01)\n",
    "\n",
    "tree_ssvm = OneSlackSSVM(tree_model, inference_cache=50, C=.1, tol=0.01)\n",
    "\n",
    "independent_ssvm = OneSlackSSVM(independent_model, C=.1, tol=0.01)\n",
    "\n",
    "print(\"fitting independent model...\")\n",
    "independent_ssvm.fit(X_train, y_train)\n",
    "print(\"fitting full model...\")\n",
    "full_ssvm.fit(X_train, y_train)\n",
    "print(\"fitting tree model...\")\n",
    "tree_ssvm.fit(X_train, y_train)\n",
    "\n",
    "print(\"Training loss independent model: %f\"\n",
    "      % hamming_loss(y_train, np.vstack(independent_ssvm.predict(X_train))))\n",
    "print(\"Test loss independent model: %f\"\n",
    "      % hamming_loss(y_test, np.vstack(independent_ssvm.predict(X_test))))\n",
    "\n",
    "print(\"Training loss tree model: %f\"\n",
    "      % hamming_loss(y_train, np.vstack(tree_ssvm.predict(X_train))))\n",
    "print(\"Test loss tree model: %f\"\n",
    "      % hamming_loss(y_test, np.vstack(tree_ssvm.predict(X_test))))\n",
    "\n",
    "print(\"Training loss full model: %f\"\n",
    "      % hamming_loss(y_train, np.vstack(full_ssvm.predict(X_train))))\n",
    "print(\"Test loss full model: %f\"\n",
    "      % hamming_loss(y_test, np.vstack(full_ssvm.predict(X_test))))"
   ]
  },
  {
   "cell_type": "code",
   "execution_count": null,
   "metadata": {
    "collapsed": true
   },
   "outputs": [],
   "source": []
  }
 ],
 "metadata": {
  "kernelspec": {
   "display_name": "Python 2",
   "language": "python",
   "name": "python2"
  },
  "language_info": {
   "codemirror_mode": {
    "name": "ipython",
    "version": 2
   },
   "file_extension": ".py",
   "mimetype": "text/x-python",
   "name": "python",
   "nbconvert_exporter": "python",
   "pygments_lexer": "ipython2",
   "version": "2.7.10"
  }
 },
 "nbformat": 4,
 "nbformat_minor": 0
}
